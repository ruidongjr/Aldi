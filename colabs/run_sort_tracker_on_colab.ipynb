{
  "nbformat": 4,
  "nbformat_minor": 0,
  "metadata": {
    "colab": {
      "name": "run_tracker_on_colab.ipynb",
      "provenance": [],
      "collapsed_sections": [],
      "authorship_tag": "ABX9TyMBIRTrLXVzWb2FwbqJ83re",
      "include_colab_link": true
    },
    "kernelspec": {
      "name": "python3",
      "display_name": "Python 3"
    }
  },
  "cells": [
    {
      "cell_type": "markdown",
      "metadata": {
        "id": "view-in-github",
        "colab_type": "text"
      },
      "source": [
        "<a href=\"https://colab.research.google.com/github/maxmarkov/track_and_count/blob/master/run_tracker_on_colab.ipynb\" target=\"_parent\"><img src=\"https://colab.research.google.com/assets/colab-badge.svg\" alt=\"Open In Colab\"/></a>"
      ]
    },
    {
      "cell_type": "markdown",
      "metadata": {
        "id": "bJgUVieqYZZe"
      },
      "source": [
        "# Tracking people in a room using YOLOv5 and Deep SORT\n",
        "\n",
        "One must use CPU for inference!\n"
      ]
    },
    {
      "cell_type": "markdown",
      "metadata": {
        "id": "kEXIi--4XdL3"
      },
      "source": [
        "## Part 1. Download github repository and install requirements"
      ]
    },
    {
      "cell_type": "code",
      "metadata": {
        "id": "g3wsC3eIY0BD",
        "outputId": "8f7aee38-389b-4e23-c9ec-4fc853e85afe",
        "colab": {
          "base_uri": "https://localhost:8080/",
          "height": 295
        }
      },
      "source": [
        "!git clone https://github.com/maxmarkov/track_and_count\n",
        "!pip3 install -r track_and_count/requirements.txt --quiet"
      ],
      "execution_count": 7,
      "outputs": [
        {
          "output_type": "stream",
          "text": [
            "Cloning into 'track_and_count'...\n",
            "remote: Enumerating objects: 362, done.\u001b[K\n",
            "remote: Counting objects: 100% (362/362), done.\u001b[K\n",
            "remote: Compressing objects: 100% (281/281), done.\u001b[K\n",
            "remote: Total 362 (delta 127), reused 287 (delta 68), pack-reused 0\u001b[K\n",
            "Receiving objects: 100% (362/362), 36.04 MiB | 28.15 MiB/s, done.\n",
            "Resolving deltas: 100% (127/127), done.\n",
            "\u001b[K     |████████████████████████████████| 276kB 2.8MB/s \n",
            "\u001b[K     |████████████████████████████████| 184kB 12.2MB/s \n",
            "\u001b[K     |████████████████████████████████| 122kB 14.0MB/s \n",
            "\u001b[K     |████████████████████████████████| 1.5MB 12.0MB/s \n",
            "\u001b[K     |████████████████████████████████| 952kB 24.9MB/s \n",
            "\u001b[?25h  Building wheel for PyYAML (setup.py) ... \u001b[?25l\u001b[?25hdone\n",
            "  Building wheel for filterpy (setup.py) ... \u001b[?25l\u001b[?25hdone\n",
            "  Building wheel for albumentations (setup.py) ... \u001b[?25l\u001b[?25hdone\n",
            "  Building wheel for lap (setup.py) ... \u001b[?25l\u001b[?25hdone\n"
          ],
          "name": "stdout"
        }
      ]
    },
    {
      "cell_type": "code",
      "metadata": {
        "id": "r-yF6u92ZWWS",
        "outputId": "4b5d95c8-85e3-4d36-fc25-d96c0a9c2312",
        "colab": {
          "base_uri": "https://localhost:8080/",
          "height": 260
        }
      },
      "source": [
        "%cd track_and_count/yolov5\n",
        "!./weights/download_weights.sh\n",
        "%cd .."
      ],
      "execution_count": 8,
      "outputs": [
        {
          "output_type": "stream",
          "text": [
            "/root/track_and_count/yolov5\n",
            "Downloading https://github.com/ultralytics/yolov5/releases/download/v3.0/yolov5s.pt to weights/yolov5s.pt...\n",
            "100% 14.5M/14.5M [00:00<00:00, 98.9MB/s]\n",
            "\n",
            "Downloading https://github.com/ultralytics/yolov5/releases/download/v3.0/yolov5m.pt to weights/yolov5m.pt...\n",
            "100% 41.9M/41.9M [00:00<00:00, 91.6MB/s]\n",
            "\n",
            "Downloading https://github.com/ultralytics/yolov5/releases/download/v3.0/yolov5l.pt to weights/yolov5l.pt...\n",
            "100% 91.6M/91.6M [00:01<00:00, 92.4MB/s]\n",
            "\n",
            "Downloading https://github.com/ultralytics/yolov5/releases/download/v3.0/yolov5x.pt to weights/yolov5x.pt...\n",
            "100% 170M/170M [00:01<00:00, 94.4MB/s]\n",
            "\n",
            "/root/track_and_count\n"
          ],
          "name": "stdout"
        }
      ]
    },
    {
      "cell_type": "markdown",
      "metadata": {
        "id": "JvBvZY0RZSUn"
      },
      "source": [
        "## Part 2. Run tracker on example."
      ]
    },
    {
      "cell_type": "code",
      "metadata": {
        "id": "BYnRzfzqZz7j"
      },
      "source": [
        "!python3 track_yolov5_sort.py --source example/running.mp4 --weights yolov5/weights/yolov5s.pt --conf 0.4 --max_age 50 --min_hits 10 --iou_threshold 0.3"
      ],
      "execution_count": null,
      "outputs": []
    },
    {
      "cell_type": "markdown",
      "metadata": {
        "id": "uDmWssB20mdo"
      },
      "source": [
        "## Download video with inference"
      ]
    },
    {
      "cell_type": "code",
      "metadata": {
        "id": "P1phnYIz0QGb",
        "outputId": "a9e754e0-f3fb-4b38-9322-df30ae0ea3b9",
        "colab": {
          "base_uri": "https://localhost:8080/",
          "height": 17
        }
      },
      "source": [
        "from google.colab import files\n",
        "f = 'inference/output/running.mp4'\n",
        "files.download(f) "
      ],
      "execution_count": null,
      "outputs": [
        {
          "output_type": "display_data",
          "data": {
            "application/javascript": [
              "\n",
              "    async function download(id, filename, size) {\n",
              "      if (!google.colab.kernel.accessAllowed) {\n",
              "        return;\n",
              "      }\n",
              "      const div = document.createElement('div');\n",
              "      const label = document.createElement('label');\n",
              "      label.textContent = `Downloading \"${filename}\": `;\n",
              "      div.appendChild(label);\n",
              "      const progress = document.createElement('progress');\n",
              "      progress.max = size;\n",
              "      div.appendChild(progress);\n",
              "      document.body.appendChild(div);\n",
              "\n",
              "      const buffers = [];\n",
              "      let downloaded = 0;\n",
              "\n",
              "      const channel = await google.colab.kernel.comms.open(id);\n",
              "      // Send a message to notify the kernel that we're ready.\n",
              "      channel.send({})\n",
              "\n",
              "      for await (const message of channel.messages) {\n",
              "        // Send a message to notify the kernel that we're ready.\n",
              "        channel.send({})\n",
              "        if (message.buffers) {\n",
              "          for (const buffer of message.buffers) {\n",
              "            buffers.push(buffer);\n",
              "            downloaded += buffer.byteLength;\n",
              "            progress.value = downloaded;\n",
              "          }\n",
              "        }\n",
              "      }\n",
              "      const blob = new Blob(buffers, {type: 'application/binary'});\n",
              "      const a = document.createElement('a');\n",
              "      a.href = window.URL.createObjectURL(blob);\n",
              "      a.download = filename;\n",
              "      div.appendChild(a);\n",
              "      a.click();\n",
              "      div.remove();\n",
              "    }\n",
              "  "
            ],
            "text/plain": [
              "<IPython.core.display.Javascript object>"
            ]
          },
          "metadata": {
            "tags": []
          }
        },
        {
          "output_type": "display_data",
          "data": {
            "application/javascript": [
              "download(\"download_6ebb2e36-69d6-4914-9511-29fb79f9a25e\", \"running.mp4\", 20351249)"
            ],
            "text/plain": [
              "<IPython.core.display.Javascript object>"
            ]
          },
          "metadata": {
            "tags": []
          }
        }
      ]
    }
  ]
}