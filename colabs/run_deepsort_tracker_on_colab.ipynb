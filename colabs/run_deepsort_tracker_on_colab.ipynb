{
  "nbformat": 4,
  "nbformat_minor": 0,
  "metadata": {
    "colab": {
      "name": "run_deepsort_tracker_on_colab.ipynb",
      "provenance": [],
      "collapsed_sections": [],
      "authorship_tag": "ABX9TyPqp06kHqaNYTyM51syIOGl",
      "include_colab_link": true
    },
    "kernelspec": {
      "name": "python3",
      "display_name": "Python 3"
    }
  },
  "cells": [
    {
      "cell_type": "markdown",
      "metadata": {
        "id": "view-in-github",
        "colab_type": "text"
      },
      "source": [
        "<a href=\"https://colab.research.google.com/github/maxmarkov/track_and_count/blob/master/run_deepsort_tracker_on_colab.ipynb\" target=\"_parent\"><img src=\"https://colab.research.google.com/assets/colab-badge.svg\" alt=\"Open In Colab\"/></a>"
      ]
    },
    {
      "cell_type": "markdown",
      "metadata": {
        "id": "jf9zqBMzNeco"
      },
      "source": [
        "# Tracking people in a room using YOLOv5 and Deep SORT\n",
        "\n",
        "## Part 1. Download/get a video.\n",
        "\n",
        "Get video from gdrive. Skip this step and run on example."
      ]
    },
    {
      "cell_type": "code",
      "metadata": {
        "id": "yYH4_jLrRk0y",
        "outputId": "5d12abe4-437e-4d8a-c415-144c3e4e1648",
        "colab": {
          "base_uri": "https://localhost:8080/",
          "height": 34
        }
      },
      "source": [
        "from google.colab import drive\n",
        "import os\n",
        "\n",
        "drive.mount('/content/drive')  # access drive\n",
        "\n",
        "path = \"drive/My Drive/yolo_people_count/video_samples/\"\n",
        "vfile = \"election_2018_sample_1.mp4\"\n",
        "\n",
        "os.path.isfile(path+vfile)"
      ],
      "execution_count": 24,
      "outputs": [
        {
          "output_type": "execute_result",
          "data": {
            "text/plain": [
              "True"
            ]
          },
          "metadata": {
            "tags": []
          },
          "execution_count": 24
        }
      ]
    },
    {
      "cell_type": "markdown",
      "metadata": {
        "id": "8MrzFKHSS9T2"
      },
      "source": [
        "## Part 2. Get DeepSORT and weights"
      ]
    },
    {
      "cell_type": "code",
      "metadata": {
        "id": "b1EeXg78YBtb",
        "outputId": "9113a179-7365-418c-aa84-2efdaac58922",
        "colab": {
          "base_uri": "https://localhost:8080/",
          "height": 139
        }
      },
      "source": [
        "!git clone https://github.com/maxmarkov/track_and_count\n",
        "!pip3 install -r track_and_count/requirements.txt --quiet"
      ],
      "execution_count": 25,
      "outputs": [
        {
          "output_type": "stream",
          "text": [
            "Cloning into 'track_and_count'...\n",
            "remote: Enumerating objects: 356, done.\u001b[K\n",
            "remote: Counting objects: 100% (356/356), done.\u001b[K\n",
            "remote: Compressing objects: 100% (275/275), done.\u001b[K\n",
            "remote: Total 356 (delta 123), reused 288 (delta 68), pack-reused 0\u001b[K\n",
            "Receiving objects: 100% (356/356), 36.03 MiB | 8.86 MiB/s, done.\n",
            "Resolving deltas: 100% (123/123), done.\n"
          ],
          "name": "stdout"
        }
      ]
    },
    {
      "cell_type": "markdown",
      "metadata": {
        "id": "rsPCMyqhcbT3"
      },
      "source": [
        "Download yolo and deep sort weights"
      ]
    },
    {
      "cell_type": "code",
      "metadata": {
        "id": "rIns00_IWIIy",
        "outputId": "6d664093-846d-4ab0-b586-b1ee750dd528",
        "colab": {
          "base_uri": "https://localhost:8080/",
          "height": 52
        }
      },
      "source": [
        "%cd track_and_count/yolov5/\n",
        "!weights/download_weights.sh\n",
        "%cd ..\n",
        "!deep_sort/deep_sort/deep/checkpoint/download_weights.sh"
      ],
      "execution_count": 42,
      "outputs": [
        {
          "output_type": "stream",
          "text": [
            "/content/track_and_count/yolov5\n",
            "/content/track_and_count\n"
          ],
          "name": "stdout"
        }
      ]
    },
    {
      "cell_type": "code",
      "metadata": {
        "id": "4KI26ZdqfAhf"
      },
      "source": [
        "!python3 track_yolov5_deepsort.py --source 'example/running.mp4' --weights 'yolov5/weights/yolov5s.pt'"
      ],
      "execution_count": null,
      "outputs": []
    },
    {
      "cell_type": "markdown",
      "metadata": {
        "id": "g9QR1rrPP0rz"
      },
      "source": [
        "## Part 3. Download output."
      ]
    },
    {
      "cell_type": "code",
      "metadata": {
        "id": "BQg_t0OxiM5b",
        "outputId": "f2b38666-1d4b-4720-f1a4-425ead48bd58",
        "colab": {
          "base_uri": "https://localhost:8080/",
          "height": 34
        }
      },
      "source": [
        "%ls inference/output/"
      ],
      "execution_count": null,
      "outputs": [
        {
          "output_type": "stream",
          "text": [
            "election_2018_sample_1.mp4\n"
          ],
          "name": "stdout"
        }
      ]
    },
    {
      "cell_type": "code",
      "metadata": {
        "id": "kGN8qjxPiDX1",
        "outputId": "f89ef6e2-28be-42ac-f2fc-21010f76fe93",
        "colab": {
          "base_uri": "https://localhost:8080/",
          "height": 34
        }
      },
      "source": [
        "from google.colab import files\n",
        "files.download('inference/output/election_2018_sample_1.mp4')"
      ],
      "execution_count": null,
      "outputs": [
        {
          "output_type": "display_data",
          "data": {
            "application/javascript": [
              "\n",
              "    async function download(id, filename, size) {\n",
              "      if (!google.colab.kernel.accessAllowed) {\n",
              "        return;\n",
              "      }\n",
              "      const div = document.createElement('div');\n",
              "      const label = document.createElement('label');\n",
              "      label.textContent = `Downloading \"${filename}\": `;\n",
              "      div.appendChild(label);\n",
              "      const progress = document.createElement('progress');\n",
              "      progress.max = size;\n",
              "      div.appendChild(progress);\n",
              "      document.body.appendChild(div);\n",
              "\n",
              "      const buffers = [];\n",
              "      let downloaded = 0;\n",
              "\n",
              "      const channel = await google.colab.kernel.comms.open(id);\n",
              "      // Send a message to notify the kernel that we're ready.\n",
              "      channel.send({})\n",
              "\n",
              "      for await (const message of channel.messages) {\n",
              "        // Send a message to notify the kernel that we're ready.\n",
              "        channel.send({})\n",
              "        if (message.buffers) {\n",
              "          for (const buffer of message.buffers) {\n",
              "            buffers.push(buffer);\n",
              "            downloaded += buffer.byteLength;\n",
              "            progress.value = downloaded;\n",
              "          }\n",
              "        }\n",
              "      }\n",
              "      const blob = new Blob(buffers, {type: 'application/binary'});\n",
              "      const a = document.createElement('a');\n",
              "      a.href = window.URL.createObjectURL(blob);\n",
              "      a.download = filename;\n",
              "      div.appendChild(a);\n",
              "      a.click();\n",
              "      div.remove();\n",
              "    }\n",
              "  "
            ],
            "text/plain": [
              "<IPython.core.display.Javascript object>"
            ]
          },
          "metadata": {
            "tags": []
          }
        },
        {
          "output_type": "display_data",
          "data": {
            "application/javascript": [
              "download(\"download_9d57e71b-f9fd-49c8-933e-5a3a32e0acf7\", \"election_2018_sample_1.mp4\", 5485547)"
            ],
            "text/plain": [
              "<IPython.core.display.Javascript object>"
            ]
          },
          "metadata": {
            "tags": []
          }
        }
      ]
    }
  ]
}